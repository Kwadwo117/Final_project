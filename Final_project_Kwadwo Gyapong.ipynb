{
 "cells": [
  {
   "cell_type": "markdown",
   "id": "5a6a587f",
   "metadata": {},
   "source": [
    "<a id=\"Question1\"></a>\n",
    "# Question 1. A car with a full tank of gas drives 80 miles per hour for 3 hours before running out of gas. How many miles can the car go per tank?"
   ]
  },
  {
   "cell_type": "markdown",
   "id": "be3a2cbc",
   "metadata": {},
   "source": [
    "## Caclulating how many miles the car can go per tank"
   ]
  },
  {
   "cell_type": "code",
   "execution_count": 1,
   "id": "c1aeaa69",
   "metadata": {
    "scrolled": true
   },
   "outputs": [
    {
     "data": {
      "text/plain": [
       "240"
      ]
     },
     "execution_count": 1,
     "metadata": {},
     "output_type": "execute_result"
    }
   ],
   "source": [
    "80*3"
   ]
  },
  {
   "cell_type": "markdown",
   "id": "5a55c887",
   "metadata": {},
   "source": [
    "### The answer is 240 miles"
   ]
  },
  {
   "cell_type": "markdown",
   "id": "38fae2af",
   "metadata": {},
   "source": [
    "## Using Python to illustrate"
   ]
  },
  {
   "cell_type": "code",
   "execution_count": 4,
   "id": "02cd36cd",
   "metadata": {},
   "outputs": [],
   "source": [
    "from matplotlib import pyplot as plt"
   ]
  },
  {
   "cell_type": "code",
   "execution_count": 5,
   "id": "09477614",
   "metadata": {},
   "outputs": [
    {
     "name": "stdout",
     "output_type": "stream",
     "text": [
      "[1, 3] [80]\n",
      "[1, 3] [80, 240]\n"
     ]
    }
   ],
   "source": [
    "xarray = [1,3]\n",
    "yarray = []\n",
    "for x in xarray:\n",
    "    y = x * 80\n",
    "    yarray.append(y)\n",
    "    print (xarray, yarray)"
   ]
  },
  {
   "cell_type": "markdown",
   "id": "4da75403",
   "metadata": {},
   "source": [
    "### if one hour is 80 miles, 3 hours will be equal to 240 miles"
   ]
  },
  {
   "cell_type": "code",
   "execution_count": 6,
   "id": "c04e71fd",
   "metadata": {},
   "outputs": [
    {
     "data": {
      "text/plain": [
       "Text(0, 0.5, 'Miles')"
      ]
     },
     "execution_count": 6,
     "metadata": {},
     "output_type": "execute_result"
    },
    {
     "data": {
      "image/png": "[encoded data removed]",
      "text/plain": [
       "<Figure size 432x288 with 1 Axes>"
      ]
     },
     "metadata": {
      "needs_background": "light"
     },
     "output_type": "display_data"
    }
   ],
   "source": [
    "%matplotlib inline \n",
    "fig=plt.figure()\n",
    "ax=fig.add_axes([0,0,1,1])\n",
    "ax.plot(xarray,yarray)\n",
    "ax.set_title(\"Question 1\")\n",
    "ax.set_xlabel('Hours')\n",
    "ax.set_ylabel('Miles')\n"
   ]
  },
  {
   "cell_type": "markdown",
   "id": "09ad0421",
   "metadata": {},
   "source": [
    "# Question 2 A runner travels a half marathon (13.1 miles) in 3 hours. How fast was this runner going in miles per hour?\n"
   ]
  },
  {
   "cell_type": "markdown",
   "id": "e85c7044",
   "metadata": {},
   "source": [
    "## Solving mathematically, we have to divide the total run in miles over 3 hours "
   ]
  },
  {
   "cell_type": "code",
   "execution_count": 16,
   "id": "4e605fa2",
   "metadata": {},
   "outputs": [],
   "source": [
    "a = 13.1/3"
   ]
  },
  {
   "cell_type": "code",
   "execution_count": 18,
   "id": "d5e8c59b",
   "metadata": {},
   "outputs": [
    {
     "name": "stdout",
     "output_type": "stream",
     "text": [
      "4.366666666666666\n"
     ]
    }
   ],
   "source": [
    "print (a)"
   ]
  },
  {
   "cell_type": "code",
   "execution_count": 19,
   "id": "9042f7a4",
   "metadata": {
    "scrolled": false
   },
   "outputs": [
    {
     "data": {
      "text/plain": [
       "4.37"
      ]
     },
     "execution_count": 19,
     "metadata": {},
     "output_type": "execute_result"
    }
   ],
   "source": [
    "round (a,2)"
   ]
  },
  {
   "cell_type": "markdown",
   "id": "5bd99441",
   "metadata": {},
   "source": [
    "## The runner run for 4.37 miles an hour"
   ]
  },
  {
   "cell_type": "markdown",
   "id": "e099451c",
   "metadata": {},
   "source": [
    "## Calculate in Python"
   ]
  },
  {
   "cell_type": "code",
   "execution_count": 1,
   "id": "78c9be28",
   "metadata": {},
   "outputs": [],
   "source": [
    "from matplotlib import pyplot as plt"
   ]
  },
  {
   "cell_type": "code",
   "execution_count": null,
   "id": "5f9066b3",
   "metadata": {},
   "outputs": [],
   "source": [
    "xarray = [1,5]\n",
    "yarray = []\n",
    "for x in xarray:\n",
    "    y = (13.1/) \n",
    "    yarray.append(y)\n",
    "    print (xarray, yarray)"
   ]
  },
  {
   "cell_type": "code",
   "execution_count": 33,
   "id": "df0808d9",
   "metadata": {},
   "outputs": [
    {
     "data": {
      "text/plain": [
       "Text(0, 0.5, 'Miles')"
      ]
     },
     "execution_count": 33,
     "metadata": {},
     "output_type": "execute_result"
    },
    {
     "data": {
      "image/png": "[encoded data removed]",
      "text/plain": [
       "<Figure size 432x288 with 1 Axes>"
      ]
     },
     "metadata": {
      "needs_background": "light"
     },
     "output_type": "display_data"
    }
   ],
   "source": [
    "%matplotlib inline \n",
    "fig=plt.figure()\n",
    "ax=fig.add_axes([0,0,1,1])\n",
    "ax.plot(xarray,yarray)\n",
    "ax.set_title(\"Question 2\")\n",
    "ax.set_xlabel('Hours')\n",
    "ax.set_ylabel('Miles')"
   ]
  },
  {
   "cell_type": "markdown",
   "id": "50cf0e6c",
   "metadata": {},
   "source": [
    "# Question 3 The spread of a virus is exponential. If 5 people are infected and each person infects 2 other people, how many people have been infected after 5 rounds of infection?"
   ]
  },
  {
   "cell_type": "code",
   "execution_count": 32,
   "id": "8075c6cc",
   "metadata": {},
   "outputs": [
    {
     "data": {
      "text/plain": [
       "160"
      ]
     },
     "execution_count": 32,
     "metadata": {},
     "output_type": "execute_result"
    }
   ],
   "source": [
    "5*(2**5)"
   ]
  },
  {
   "cell_type": "markdown",
   "id": "f30af5f0",
   "metadata": {},
   "source": [
    "*The answer is 160*"
   ]
  },
  {
   "cell_type": "markdown",
   "id": "d42c9ba2",
   "metadata": {},
   "source": [
    "**BOLD**"
   ]
  },
  {
   "cell_type": "markdown",
   "id": "22caa2e6",
   "metadata": {},
   "source": [
    "# Questions\n",
    "1. Number 1 \n",
    "2. Number 2  \n",
    "3. Number 3  "
   ]
  },
  {
   "cell_type": "markdown",
   "id": "559e519d",
   "metadata": {},
   "source": [
    "- [X] Question 1\n",
    "- [X] Question 2\n",
    "- [X] Question 3"
   ]
  },
  {
   "cell_type": "markdown",
   "id": "96c14963",
   "metadata": {},
   "source": [
    "[Go to anchor](#Question1)"
   ]
  },
  {
   "cell_type": "code",
   "execution_count": null,
   "id": "3e4df5bb",
   "metadata": {},
   "outputs": [],
   "source": []
  }
 ],
 "metadata": {
  "kernelspec": {
   "display_name": "Python 3 (ipykernel)",
   "language": "python",
   "name": "python3"
  },
  "language_info": {
   "codemirror_mode": {
    "name": "ipython",
    "version": 3
   },
   "file_extension": ".py",
   "mimetype": "text/x-python",
   "name": "python",
   "nbconvert_exporter": "python",
   "pygments_lexer": "ipython3",
   "version": "3.9.12"
  }
 },
 "nbformat": 4,
 "nbformat_minor": 5
}
